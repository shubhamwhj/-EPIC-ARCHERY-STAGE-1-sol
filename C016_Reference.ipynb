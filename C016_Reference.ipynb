{
  "nbformat": 4,
  "nbformat_minor": 0,
  "metadata": {
    "colab": {
      "provenance": [],
      "collapsed_sections": [
        "kqH433pl-NMf"
      ],
      "include_colab_link": true
    },
    "kernelspec": {
      "name": "python3",
      "display_name": "Python 3"
    },
    "language_info": {
      "name": "python"
    }
  },
  "cells": [
    {
      "cell_type": "markdown",
      "metadata": {
        "id": "view-in-github",
        "colab_type": "text"
      },
      "source": [
        "<a href=\"https://colab.research.google.com/github/shubhamwhj/-EPIC-ARCHERY-STAGE-1-sol/blob/main/C016_Reference.ipynb\" target=\"_parent\"><img src=\"https://colab.research.google.com/assets/colab-badge.svg\" alt=\"Open In Colab\"/></a>"
      ]
    },
    {
      "cell_type": "markdown",
      "metadata": {
        "id": "pufnBO_EU4HL"
      },
      "source": [
        "## Sequence Data Type : \n",
        "\n",
        "*   list\n",
        "*   range()\n",
        "\n"
      ]
    },
    {
      "cell_type": "markdown",
      "metadata": {
        "id": "xD2dnZWe7uva"
      },
      "source": [
        "#### Declaring an Empty List"
      ]
    },
    {
      "cell_type": "code",
      "metadata": {
        "id": "j49XiSy9WAxz"
      },
      "source": [
        "list1 = []"
      ],
      "execution_count": null,
      "outputs": []
    },
    {
      "cell_type": "markdown",
      "metadata": {
        "id": "C_DaOEYD7-ef"
      },
      "source": [
        "#### A list of Numbers"
      ]
    },
    {
      "cell_type": "code",
      "metadata": {
        "id": "COsth3JNTez5"
      },
      "source": [
        "list1 = [90, 95, 92, 97, 99]"
      ],
      "execution_count": null,
      "outputs": []
    },
    {
      "cell_type": "code",
      "metadata": {
        "colab": {
          "base_uri": "https://localhost:8080/"
        },
        "id": "1JfFJLChUVtu",
        "outputId": "ef9350d8-2485-4bb2-9441-d22926fb3bff"
      },
      "source": [
        "print(list1)"
      ],
      "execution_count": null,
      "outputs": [
        {
          "output_type": "stream",
          "text": [
            "[90, 95, 92, 97, 99]\n"
          ],
          "name": "stdout"
        }
      ]
    },
    {
      "cell_type": "markdown",
      "metadata": {
        "id": "myWcFGvj73uV"
      },
      "source": [
        "#### Checking Type"
      ]
    },
    {
      "cell_type": "code",
      "metadata": {
        "colab": {
          "base_uri": "https://localhost:8080/"
        },
        "id": "L1cvsOvVWF_2",
        "outputId": "2caacadd-68be-40fa-9518-b5f364358018"
      },
      "source": [
        "type(list1)"
      ],
      "execution_count": null,
      "outputs": [
        {
          "output_type": "execute_result",
          "data": {
            "text/plain": [
              "list"
            ]
          },
          "metadata": {
            "tags": []
          },
          "execution_count": 74
        }
      ]
    },
    {
      "cell_type": "markdown",
      "metadata": {
        "id": "KCftEY_SOw01"
      },
      "source": [
        "#### Length of a list"
      ]
    },
    {
      "cell_type": "code",
      "metadata": {
        "colab": {
          "base_uri": "https://localhost:8080/"
        },
        "id": "t_i0lHyiO6Og",
        "outputId": "2983543b-59c6-4c17-a18e-46c84e981098"
      },
      "source": [
        "len(list1)"
      ],
      "execution_count": null,
      "outputs": [
        {
          "output_type": "execute_result",
          "data": {
            "text/plain": [
              "5"
            ]
          },
          "metadata": {
            "tags": []
          },
          "execution_count": 75
        }
      ]
    },
    {
      "cell_type": "markdown",
      "metadata": {
        "id": "wWrXbqnGEiyY"
      },
      "source": [
        "#### A list of Strings"
      ]
    },
    {
      "cell_type": "code",
      "metadata": {
        "id": "JIbnkpwK5_o_"
      },
      "source": [
        "list2= [\"WhiteHatJr\", \"Coding\", \"Classes\"]"
      ],
      "execution_count": null,
      "outputs": []
    },
    {
      "cell_type": "code",
      "metadata": {
        "colab": {
          "base_uri": "https://localhost:8080/"
        },
        "id": "aVyAd71kFNHg",
        "outputId": "595a03ae-949e-4cb6-bd97-827f89d08cec"
      },
      "source": [
        "len(list2)"
      ],
      "execution_count": null,
      "outputs": [
        {
          "output_type": "execute_result",
          "data": {
            "text/plain": [
              "3"
            ]
          },
          "metadata": {
            "tags": []
          },
          "execution_count": 77
        }
      ]
    },
    {
      "cell_type": "code",
      "metadata": {
        "colab": {
          "base_uri": "https://localhost:8080/"
        },
        "id": "BruXEioEFMQV",
        "outputId": "7b896d7c-4c9a-4322-ffbe-7e18d645364f"
      },
      "source": [
        "list2"
      ],
      "execution_count": null,
      "outputs": [
        {
          "output_type": "execute_result",
          "data": {
            "text/plain": [
              "['WhiteHatJr', 'Coding', 'Classes']"
            ]
          },
          "metadata": {
            "tags": []
          },
          "execution_count": 78
        }
      ]
    },
    {
      "cell_type": "markdown",
      "metadata": {
        "id": "glVsmH_E24KA"
      },
      "source": [
        "### Indexing in List\n",
        "\n",
        "\n",
        "*   **positive** index \n",
        "        starts from 0 at begining of the list\n",
        "\n",
        "\n",
        "\n",
        "*   **negative** index \n",
        "        starts from -1 at the end of the list\n",
        "\n"
      ]
    },
    {
      "cell_type": "markdown",
      "metadata": {
        "id": "HsAalUUz7EzA"
      },
      "source": [
        "### Accessing list element using Positive Index\n",
        "\n"
      ]
    },
    {
      "cell_type": "code",
      "metadata": {
        "colab": {
          "base_uri": "https://localhost:8080/"
        },
        "id": "SpvFtmbM3QPa",
        "outputId": "f6c79af2-6ffd-400a-e10a-c63d6da7d061"
      },
      "source": [
        "list1[0]\n"
      ],
      "execution_count": null,
      "outputs": [
        {
          "output_type": "execute_result",
          "data": {
            "text/plain": [
              "90"
            ]
          },
          "metadata": {
            "tags": []
          },
          "execution_count": 80
        }
      ]
    },
    {
      "cell_type": "code",
      "metadata": {
        "colab": {
          "base_uri": "https://localhost:8080/",
          "height": 35
        },
        "id": "pLm2T8Qj9D-v",
        "outputId": "df29342f-6081-4432-813f-fac26ae812a7"
      },
      "source": [
        "list2[0]"
      ],
      "execution_count": null,
      "outputs": [
        {
          "output_type": "execute_result",
          "data": {
            "application/vnd.google.colaboratory.intrinsic+json": {
              "type": "string"
            },
            "text/plain": [
              "'WhiteHatJr'"
            ]
          },
          "metadata": {
            "tags": []
          },
          "execution_count": 81
        }
      ]
    },
    {
      "cell_type": "markdown",
      "metadata": {
        "id": "aRldNRDKo8wA"
      },
      "source": [
        "### Accessing list element using Negative Index\n"
      ]
    },
    {
      "cell_type": "code",
      "metadata": {
        "colab": {
          "base_uri": "https://localhost:8080/"
        },
        "id": "h2oNgEHn6buk",
        "outputId": "e498559f-b7e0-407f-982a-6e6e92164535"
      },
      "source": [
        "list1[-1]\n"
      ],
      "execution_count": null,
      "outputs": [
        {
          "output_type": "execute_result",
          "data": {
            "text/plain": [
              "99"
            ]
          },
          "metadata": {
            "tags": []
          },
          "execution_count": 82
        }
      ]
    },
    {
      "cell_type": "code",
      "metadata": {
        "colab": {
          "base_uri": "https://localhost:8080/",
          "height": 35
        },
        "id": "aanxnbZ89GLk",
        "outputId": "a97a6e05-93f9-4899-d385-0cf6930ae4eb"
      },
      "source": [
        "list2[-1]"
      ],
      "execution_count": null,
      "outputs": [
        {
          "output_type": "execute_result",
          "data": {
            "application/vnd.google.colaboratory.intrinsic+json": {
              "type": "string"
            },
            "text/plain": [
              "'Classes'"
            ]
          },
          "metadata": {
            "tags": []
          },
          "execution_count": 83
        }
      ]
    },
    {
      "cell_type": "markdown",
      "metadata": {
        "id": "rQtotC-a6gwo"
      },
      "source": [
        "## Accessing list element using Slice Operator \n",
        "\n",
        "\n",
        "The slice operator(:) helps us to access the elements of the list **within a range** of specified index values."
      ]
    },
    {
      "cell_type": "code",
      "metadata": {
        "colab": {
          "base_uri": "https://localhost:8080/"
        },
        "id": "tTGzvzhE6gBV",
        "outputId": "7052e978-5a81-4b22-9012-797e2f7f3adb"
      },
      "source": [
        "list1[0:2]   "
      ],
      "execution_count": null,
      "outputs": [
        {
          "output_type": "execute_result",
          "data": {
            "text/plain": [
              "[90, 95]"
            ]
          },
          "metadata": {
            "tags": []
          },
          "execution_count": 84
        }
      ]
    },
    {
      "cell_type": "code",
      "metadata": {
        "colab": {
          "base_uri": "https://localhost:8080/"
        },
        "id": "L43OUn1P2279",
        "outputId": "d7164e94-43f7-4aee-aab6-ebe448f53726"
      },
      "source": [
        "\n",
        "list2[0:2]"
      ],
      "execution_count": null,
      "outputs": [
        {
          "output_type": "execute_result",
          "data": {
            "text/plain": [
              "['WhiteHatJr', 'Coding']"
            ]
          },
          "metadata": {
            "tags": []
          },
          "execution_count": 85
        }
      ]
    },
    {
      "cell_type": "markdown",
      "metadata": {
        "id": "lm7v5tD7_dMl"
      },
      "source": [
        "**Note**: To get all the values of the list using slice operator we should specify the \"stop index\" one more than the length of the element."
      ]
    },
    {
      "cell_type": "code",
      "metadata": {
        "colab": {
          "base_uri": "https://localhost:8080/"
        },
        "id": "cwS0gqa_9KWd",
        "outputId": "15d70568-5f63-45b1-f03e-9ca8291ef4cb"
      },
      "source": [
        "list1[0:5]"
      ],
      "execution_count": null,
      "outputs": [
        {
          "output_type": "execute_result",
          "data": {
            "text/plain": [
              "[90, 95, 92, 97, 99]"
            ]
          },
          "metadata": {
            "tags": []
          },
          "execution_count": 86
        }
      ]
    },
    {
      "cell_type": "code",
      "metadata": {
        "colab": {
          "base_uri": "https://localhost:8080/"
        },
        "id": "4s5pNyr53td2",
        "outputId": "5b3c1352-4674-480a-a73b-747cd4f65e80"
      },
      "source": [
        "\n",
        "list2[0:3]"
      ],
      "execution_count": null,
      "outputs": [
        {
          "output_type": "execute_result",
          "data": {
            "text/plain": [
              "['WhiteHatJr', 'Coding', 'Classes']"
            ]
          },
          "metadata": {
            "tags": []
          },
          "execution_count": 87
        }
      ]
    },
    {
      "cell_type": "markdown",
      "metadata": {
        "id": "R6EgFsx312PY"
      },
      "source": [
        "### Slice Operator With Negative Index"
      ]
    },
    {
      "cell_type": "code",
      "metadata": {
        "colab": {
          "base_uri": "https://localhost:8080/"
        },
        "id": "CG-BDFGgM50r",
        "outputId": "cdffb873-3ff2-4653-8275-02f0c3d63777"
      },
      "source": [
        "list1[-5:-3]"
      ],
      "execution_count": null,
      "outputs": [
        {
          "output_type": "execute_result",
          "data": {
            "text/plain": [
              "[90, 95]"
            ]
          },
          "metadata": {
            "tags": []
          },
          "execution_count": 88
        }
      ]
    },
    {
      "cell_type": "code",
      "metadata": {
        "colab": {
          "base_uri": "https://localhost:8080/"
        },
        "id": "T7hLnQXqt2jh",
        "outputId": "93f4812e-1878-4686-ab47-8d678c71af7a"
      },
      "source": [
        "list1[1:3]"
      ],
      "execution_count": null,
      "outputs": [
        {
          "output_type": "execute_result",
          "data": {
            "text/plain": [
              "[95, 92]"
            ]
          },
          "metadata": {
            "tags": []
          },
          "execution_count": 89
        }
      ]
    },
    {
      "cell_type": "code",
      "metadata": {
        "colab": {
          "base_uri": "https://localhost:8080/"
        },
        "id": "CCfs-VYRJlzM",
        "outputId": "b0bb172a-6da4-42f2-e113-d8b60e16e7dd"
      },
      "source": [
        "list1[-4:-2]"
      ],
      "execution_count": null,
      "outputs": [
        {
          "output_type": "execute_result",
          "data": {
            "text/plain": [
              "[95, 92]"
            ]
          },
          "metadata": {
            "tags": []
          },
          "execution_count": 90
        }
      ]
    },
    {
      "cell_type": "markdown",
      "source": [
        "###Slice with step."
      ],
      "metadata": {
        "id": "_nXaM-wXzU84"
      }
    },
    {
      "cell_type": "code",
      "source": [
        "list3=[1,2,3,4,5,6,7,8,9,10,11,12,13,14,15,16,17,18,19,20]"
      ],
      "metadata": {
        "id": "K5k1xEF8zhz2"
      },
      "execution_count": null,
      "outputs": []
    },
    {
      "cell_type": "code",
      "source": [
        "list3[0:10]"
      ],
      "metadata": {
        "colab": {
          "base_uri": "https://localhost:8080/"
        },
        "id": "fMIlsu_-zqMl",
        "outputId": "4b642c43-9939-410c-c24e-a663bb1a54cb"
      },
      "execution_count": null,
      "outputs": [
        {
          "output_type": "execute_result",
          "data": {
            "text/plain": [
              "[1, 2, 3, 4, 5, 6, 7, 8, 9, 10]"
            ]
          },
          "metadata": {},
          "execution_count": 7
        }
      ]
    },
    {
      "cell_type": "code",
      "source": [
        "list3[0:10:2]"
      ],
      "metadata": {
        "colab": {
          "base_uri": "https://localhost:8080/"
        },
        "id": "uWLwkAW_ztCM",
        "outputId": "000eb86e-fc9a-49a4-b66d-849c89de8a6f"
      },
      "execution_count": null,
      "outputs": [
        {
          "output_type": "execute_result",
          "data": {
            "text/plain": [
              "[1, 3, 5, 7, 9]"
            ]
          },
          "metadata": {},
          "execution_count": 8
        }
      ]
    },
    {
      "cell_type": "markdown",
      "metadata": {
        "id": "adAoeV-RX6mw"
      },
      "source": [
        "## Student Activity"
      ]
    },
    {
      "cell_type": "markdown",
      "source": [
        "###Create a sandwich list"
      ],
      "metadata": {
        "id": "Gx_BeYy_0O3k"
      }
    },
    {
      "cell_type": "code",
      "source": [
        "sandwich=[\"Bread\",\"Onion\",\"Lettuce\",\"Sauce\",\"Cheese\",\"Tomato\",\"Bread\"]\n",
        "sandwich"
      ],
      "metadata": {
        "colab": {
          "base_uri": "https://localhost:8080/"
        },
        "id": "ftotFEBb0UJM",
        "outputId": "1f0b7a8c-caf2-42b6-f879-e78e1b5049be"
      },
      "execution_count": null,
      "outputs": [
        {
          "output_type": "execute_result",
          "data": {
            "text/plain": [
              "['Bread', 'Onion', 'Lettuce', 'Sauce', 'Cheese', 'Tomato', 'Bread']"
            ]
          },
          "metadata": {},
          "execution_count": 1
        }
      ]
    },
    {
      "cell_type": "markdown",
      "source": [
        "###Print ingredients except for the bread"
      ],
      "metadata": {
        "id": "2bAsr53-0qG6"
      }
    },
    {
      "cell_type": "code",
      "source": [
        "sandwich[1:6]"
      ],
      "metadata": {
        "colab": {
          "base_uri": "https://localhost:8080/"
        },
        "id": "h5XNdB2y0vNl",
        "outputId": "0dda716f-e5c8-44ec-c9ea-a8b814fbf540"
      },
      "execution_count": null,
      "outputs": [
        {
          "output_type": "execute_result",
          "data": {
            "text/plain": [
              "['Onion', 'Lettuce', 'Sauce', 'Cheese', 'Tomato']"
            ]
          },
          "metadata": {},
          "execution_count": 2
        }
      ]
    },
    {
      "cell_type": "markdown",
      "source": [
        "### Make sandwich such that it has \n",
        "* Bread\n",
        "* Lettuce\n",
        "* Cheese\n",
        "* Bread\n"
      ],
      "metadata": {
        "id": "TIqJNFiK038y"
      }
    },
    {
      "cell_type": "code",
      "source": [
        "sandwich[0:7:2]"
      ],
      "metadata": {
        "id": "gB9MLFcr1Lld",
        "outputId": "cff6db4e-37ea-4ab8-af33-7e9c4a853960",
        "colab": {
          "base_uri": "https://localhost:8080/"
        }
      },
      "execution_count": null,
      "outputs": [
        {
          "output_type": "execute_result",
          "data": {
            "text/plain": [
              "['Bread', 'Lettuce', 'Cheese', 'Bread']"
            ]
          },
          "metadata": {},
          "execution_count": 3
        }
      ]
    },
    {
      "cell_type": "markdown",
      "metadata": {
        "id": "qSO8-2i7_tdG"
      },
      "source": [
        "## Aditional Activity"
      ]
    },
    {
      "cell_type": "markdown",
      "metadata": {
        "id": "ehHFz0IhQesm"
      },
      "source": [
        "### Tuple"
      ]
    },
    {
      "cell_type": "markdown",
      "metadata": {
        "id": "LsqYbd7OMjym"
      },
      "source": [
        "#### Empty Tuple"
      ]
    },
    {
      "cell_type": "code",
      "metadata": {
        "id": "AZlvQG0mQnxj"
      },
      "source": [
        "tuple1 = ()"
      ],
      "execution_count": null,
      "outputs": []
    },
    {
      "cell_type": "markdown",
      "metadata": {
        "id": "0WWlBrBPMoNf"
      },
      "source": [
        "#### Non-Empty Tuple"
      ]
    },
    {
      "cell_type": "code",
      "metadata": {
        "id": "OucII1pyQ8Pj"
      },
      "source": [
        "tuple2 = (5,2,9,2,80)"
      ],
      "execution_count": null,
      "outputs": []
    },
    {
      "cell_type": "code",
      "metadata": {
        "colab": {
          "base_uri": "https://localhost:8080/"
        },
        "id": "cYG_N5CURDFR",
        "outputId": "c50feb1c-e936-46ac-83a3-2d80ac45e872"
      },
      "source": [
        "print(tuple2)"
      ],
      "execution_count": null,
      "outputs": [
        {
          "output_type": "stream",
          "name": "stdout",
          "text": [
            "(5, 2, 9, 2, 80)\n"
          ]
        }
      ]
    },
    {
      "cell_type": "markdown",
      "metadata": {
        "id": "G57ov-VhM39I"
      },
      "source": [
        "#### Accessing an element of Tuple"
      ]
    },
    {
      "cell_type": "code",
      "metadata": {
        "colab": {
          "base_uri": "https://localhost:8080/"
        },
        "id": "SpwC0lDnRHWl",
        "outputId": "abf2c56b-2a99-4dc8-8897-4b28bd7fda4a"
      },
      "source": [
        "tuple2[0]"
      ],
      "execution_count": null,
      "outputs": [
        {
          "output_type": "execute_result",
          "data": {
            "text/plain": [
              "5"
            ]
          },
          "metadata": {},
          "execution_count": 4
        }
      ]
    },
    {
      "cell_type": "markdown",
      "metadata": {
        "id": "9y7Hp23FM_Cj"
      },
      "source": [
        "#### Accessing elements using Slice Operator"
      ]
    },
    {
      "cell_type": "code",
      "metadata": {
        "colab": {
          "base_uri": "https://localhost:8080/"
        },
        "id": "p3uKVf9DRQuL",
        "outputId": "cd2b3167-8920-4dc1-c767-0dc3136f77e7"
      },
      "source": [
        "tuple2[0:3]"
      ],
      "execution_count": null,
      "outputs": [
        {
          "output_type": "execute_result",
          "data": {
            "text/plain": [
              "(5, 2, 9)"
            ]
          },
          "metadata": {},
          "execution_count": 5
        }
      ]
    },
    {
      "cell_type": "markdown",
      "metadata": {
        "id": "kqH433pl-NMf"
      },
      "source": [
        "## The Difference between LIST and TUPLE"
      ]
    },
    {
      "cell_type": "code",
      "metadata": {
        "id": "DRJjqwWF-JD2"
      },
      "source": [
        "new_list = [5,2,9,2,80]"
      ],
      "execution_count": null,
      "outputs": []
    },
    {
      "cell_type": "code",
      "metadata": {
        "colab": {
          "base_uri": "https://localhost:8080/"
        },
        "id": "IBDCoqjs-ees",
        "outputId": "89fa3b1a-e3e3-4842-d0d4-fed7dc303422"
      },
      "source": [
        "#print the 4th element of the list\n",
        "new_list[4]"
      ],
      "execution_count": null,
      "outputs": [
        {
          "output_type": "execute_result",
          "data": {
            "text/plain": [
              "80"
            ]
          },
          "metadata": {
            "tags": []
          },
          "execution_count": 2
        }
      ]
    },
    {
      "cell_type": "code",
      "metadata": {
        "id": "QAa6X1PB-h1E"
      },
      "source": [
        "#change the 4th element of the list\n",
        "new_list[4]=90"
      ],
      "execution_count": null,
      "outputs": []
    },
    {
      "cell_type": "code",
      "metadata": {
        "colab": {
          "base_uri": "https://localhost:8080/"
        },
        "id": "x8vVHtdI-x3W",
        "outputId": "b8ededfa-aa9d-4938-fbaa-d64ccd56d7ab"
      },
      "source": [
        "#print the 4th element of the list again\n",
        "new_list[4]"
      ],
      "execution_count": null,
      "outputs": [
        {
          "output_type": "execute_result",
          "data": {
            "text/plain": [
              "90"
            ]
          },
          "metadata": {
            "tags": []
          },
          "execution_count": 4
        }
      ]
    },
    {
      "cell_type": "code",
      "metadata": {
        "colab": {
          "base_uri": "https://localhost:8080/"
        },
        "id": "4ew0tj5sBUGF",
        "outputId": "d1ae8452-8784-4b5a-9aa7-732084bc00c5"
      },
      "source": [
        "new_list"
      ],
      "execution_count": null,
      "outputs": [
        {
          "output_type": "execute_result",
          "data": {
            "text/plain": [
              "[5, 2, 9, 2, 90]"
            ]
          },
          "metadata": {
            "tags": []
          },
          "execution_count": 8
        }
      ]
    },
    {
      "cell_type": "code",
      "metadata": {
        "id": "LRTxzfkv-1EU"
      },
      "source": [
        "new_tuple = (5,2,9,2,80)"
      ],
      "execution_count": null,
      "outputs": []
    },
    {
      "cell_type": "code",
      "metadata": {
        "colab": {
          "base_uri": "https://localhost:8080/"
        },
        "id": "Rw3TyGyJ_HbE",
        "outputId": "086f93e2-544a-49d4-9a6c-02c039864ba0"
      },
      "source": [
        "#print the 4th element of the tuple\n",
        "new_tuple[4]"
      ],
      "execution_count": null,
      "outputs": [
        {
          "output_type": "execute_result",
          "data": {
            "text/plain": [
              "80"
            ]
          },
          "metadata": {
            "tags": []
          },
          "execution_count": 6
        }
      ]
    },
    {
      "cell_type": "code",
      "metadata": {
        "id": "xz9E7Gwh_OGt"
      },
      "source": [
        "#change the 4th element of the tuple\n",
        "# new_tuple[4]=90"
      ],
      "execution_count": null,
      "outputs": []
    },
    {
      "cell_type": "code",
      "metadata": {
        "colab": {
          "base_uri": "https://localhost:8080/"
        },
        "id": "KZ91Mabl_efx",
        "outputId": "7079957d-331f-4f63-aea4-edc7bb5592cd"
      },
      "source": [
        "#print the 4th element of the tuple again\n",
        "new_tuple[4]"
      ],
      "execution_count": null,
      "outputs": [
        {
          "output_type": "execute_result",
          "data": {
            "text/plain": [
              "80"
            ]
          },
          "metadata": {
            "tags": []
          },
          "execution_count": 9
        }
      ]
    },
    {
      "cell_type": "code",
      "metadata": {
        "colab": {
          "base_uri": "https://localhost:8080/"
        },
        "id": "zTtsRcsVCdnN",
        "outputId": "92ed940a-8398-4fb2-d830-087dbdfd66ad"
      },
      "source": [
        "new_tuple"
      ],
      "execution_count": null,
      "outputs": [
        {
          "output_type": "execute_result",
          "data": {
            "text/plain": [
              "(5, 2, 9, 2, 80)"
            ]
          },
          "metadata": {
            "tags": []
          },
          "execution_count": 10
        }
      ]
    }
  ]
}